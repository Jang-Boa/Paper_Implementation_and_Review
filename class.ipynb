{
 "cells": [
  {
   "attachments": {},
   "cell_type": "markdown",
   "metadata": {},
   "source": [
    "[1] Quiz\n",
    "1. 리스트에 기능이 마음에 안들어서 리스트를 다시 만들고 싶음\n",
    "2. 리스트에 숫자를 제거해주는 기능을 추가\n",
    "3. 리스트에 중복을 제거하는 기능을 추가"
   ]
  },
  {
   "cell_type": "code",
   "execution_count": 104,
   "metadata": {},
   "outputs": [],
   "source": [
    "class new_list(list):\n",
    "    def remove_num(self):\n",
    "        end_ = len(self)\n",
    "        cnt_ = 0\n",
    "        while cnt_ != end_:\n",
    "            if type(self[cnt_]) !=int:\n",
    "                del self[cnt_]\n",
    "                end_ -=1\n",
    "                continue\n",
    "            else:\n",
    "                cnt_+=1\n",
    "                continue\n",
    "            \n",
    "    def remove_duplicate(self):\n",
    "        new_list = []\n",
    "        cnt_ = 0\n",
    "        "
   ]
  },
  {
   "cell_type": "code",
   "execution_count": 105,
   "metadata": {},
   "outputs": [],
   "source": [
    "a = [1,2,'a','2a','g',4, 2, 2, 'a']\n"
   ]
  },
  {
   "cell_type": "code",
   "execution_count": 107,
   "metadata": {},
   "outputs": [],
   "source": [
    "a = new_list([1,2,'a','2a','g',4, 2, 2, 'a'])\n",
    "a.remove_num()"
   ]
  },
  {
   "cell_type": "code",
   "execution_count": 110,
   "metadata": {},
   "outputs": [
    {
     "data": {
      "text/plain": [
       "[1, 2, 'a', '2a', 'g', 4, 2, 2, 'a']"
      ]
     },
     "execution_count": 110,
     "metadata": {},
     "output_type": "execute_result"
    }
   ],
   "source": [
    "a"
   ]
  },
  {
   "cell_type": "code",
   "execution_count": 109,
   "metadata": {},
   "outputs": [],
   "source": [
    "a = new_list([1,2,'a','2a','g',4, 2, 2, 'a'])\n",
    "a.remove_duplicate()"
   ]
  },
  {
   "attachments": {},
   "cell_type": "markdown",
   "metadata": {},
   "source": [
    "[2] Quiz\n",
    "- 은행계좌, 은행 통합시스템을 만들 것\n",
    "- 여러 계좌가 있을텐데, \n",
    "- 계좌별 이름과 금액\n",
    "- 계좌별 금액 입출력\n",
    "- 전체 계좌 금액"
   ]
  },
  {
   "cell_type": "code",
   "execution_count": null,
   "metadata": {},
   "outputs": [],
   "source": []
  },
  {
   "cell_type": "code",
   "execution_count": null,
   "metadata": {},
   "outputs": [],
   "source": []
  }
 ],
 "metadata": {
  "kernelspec": {
   "display_name": "paper",
   "language": "python",
   "name": "python3"
  },
  "language_info": {
   "codemirror_mode": {
    "name": "ipython",
    "version": 3
   },
   "file_extension": ".py",
   "mimetype": "text/x-python",
   "name": "python",
   "nbconvert_exporter": "python",
   "pygments_lexer": "ipython3",
   "version": "3.8.16"
  },
  "orig_nbformat": 4
 },
 "nbformat": 4,
 "nbformat_minor": 2
}
