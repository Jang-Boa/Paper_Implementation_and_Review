{
 "cells": [
  {
   "attachments": {},
   "cell_type": "markdown",
   "metadata": {},
   "source": [
    "[1] Quiz\n",
    "1. 리스트에 기능이 마음에 안들어서 리스트를 다시 만들고 싶음\n",
    "2. 리스트에 숫자를 제거해주는 기능을 추가\n",
    "3. 리스트에 중복을 제거하는 기능을 추가"
   ]
  },
  {
   "cell_type": "code",
   "execution_count": 67,
   "metadata": {},
   "outputs": [],
   "source": [
    "class new_list(list):\n",
    "    def remove_num(self):\n",
    "        end_ = len(self)\n",
    "        cnt_ = 0\n",
    "        while cnt_ != end_:\n",
    "            if type(self[cnt_]) !=int:\n",
    "                del self[cnt_]\n",
    "                end_ -=1\n",
    "                continue\n",
    "            else:\n",
    "                cnt_+=1\n",
    "                continue\n",
    "            \n",
    "    def remove_duplicate(self):\n",
    "        new_list = []\n",
    "        cnt_ = 0\n",
    "        "
   ]
  },
  {
   "cell_type": "code",
   "execution_count": 68,
   "metadata": {},
   "outputs": [],
   "source": [
    "a = [1,2,'a','2a','g',4, 2, 2, 'a']\n"
   ]
  },
  {
   "cell_type": "code",
   "execution_count": 69,
   "metadata": {},
   "outputs": [],
   "source": [
    "a = new_list([1,2,'a','2a','g',4, 2, 2, 'a'])\n",
    "a.remove_num()"
   ]
  },
  {
   "cell_type": "code",
   "execution_count": 70,
   "metadata": {},
   "outputs": [
    {
     "data": {
      "text/plain": [
       "[1, 2, 4, 2, 2]"
      ]
     },
     "execution_count": 70,
     "metadata": {},
     "output_type": "execute_result"
    }
   ],
   "source": [
    "a"
   ]
  },
  {
   "cell_type": "code",
   "execution_count": 71,
   "metadata": {},
   "outputs": [],
   "source": [
    "a = new_list([1,2,'a','2a','g',4, 2, 2, 'a'])\n",
    "a.remove_duplicate()"
   ]
  },
  {
   "attachments": {},
   "cell_type": "markdown",
   "metadata": {},
   "source": [
    "[2] Quiz\n",
    "- 은행계좌, 은행 통합시스템을 만들 것\n",
    "- 여러 계좌가 있을텐데, \n",
    "- 계좌별 이름과 금액\n",
    "- 계좌별 금액 입출력\n",
    "- 전체 계좌 금액"
   ]
  },
  {
   "cell_type": "code",
   "execution_count": 72,
   "metadata": {},
   "outputs": [],
   "source": [
    "class BankAccount():\n",
    "    account = dict()\n",
    "    def __init__(self, name, money = 0):\n",
    "        self.name = name\n",
    "        BankAccount.account[self.name] = money\n",
    "        \n",
    "    @classmethod\n",
    "    def total_account(cls):\n",
    "        name = input('어떤 계좌의 잔액을 보고 싶으신가요?')\n",
    "        if name == '전체계좌':\n",
    "            print(cls.account)\n",
    "        elif name in cls.account.keys():\n",
    "            print(f'{name} 계좌의 잔액은: {cls.account[name]}원 입니다.')\n",
    "        else:\n",
    "            print('해당 계좌는 존재하지 않습니다.')\n",
    "    \n",
    "    def deposit(self, name):\n",
    "        money = int(input(\"얼마를 입금 하실 건가요? : \"))\n",
    "        if type(money) != int:\n",
    "            print('다시 입력하세요!')\n",
    "        else:\n",
    "            if name not in BankAccount.account.keys():\n",
    "                print(f\"{name} 계좌는 존재하지 않습니다.\")\n",
    "            else:\n",
    "                BankAccount.account[name] += money\n",
    "        return (f\"{name} 계좌에는 {BankAccount.account[name]}원이 남았습니다.\")\n",
    "    \n",
    "    def withdraw(self, name):\n",
    "        money = int(input(\"얼마를 출금 하실 건가요? : \"))\n",
    "        if type(money) != int:\n",
    "            print('다시 입력하세요!')\n",
    "        else:\n",
    "            if name not in BankAccount.account.keys():\n",
    "                print(f\"{name} 계좌는 존재하지 않습니다.\")\n",
    "            else:\n",
    "                remain = BankAccount.account[name]\n",
    "                if remain - money < 0:\n",
    "                    print('잔액이 부족합니다.')\n",
    "                else:\n",
    "                    BankAccount.account[name] -= money\n",
    "        return (f\"{name} 계좌에는 {BankAccount.account[name]}원이 남았습니다.\")"
   ]
  },
  {
   "cell_type": "code",
   "execution_count": 101,
   "metadata": {},
   "outputs": [],
   "source": [
    "class BankAccount():\n",
    "    account = dict()\n",
    "    def __init__(self, name, money = 0):\n",
    "        self.name = name\n",
    "        BankAccount.account[self.name] = money\n",
    "        \n",
    "    @classmethod\n",
    "    def total_account(cls):\n",
    "        name = input('어떤 계좌의 잔액을 보고 싶으신가요?')\n",
    "        if '전체계좌' in name:\n",
    "            for k in cls.account:\n",
    "                print(f\"{k} 잔액: {cls.account[k]}원\")\n",
    "        elif name in cls.account.keys():\n",
    "            print(f'{name} 계좌의 잔액은: {cls.account[name]}원 입니다.')\n",
    "        else:\n",
    "            print('해당 계좌는 존재하지 않습니다.')\n",
    "    \n",
    "    def deposit(self):\n",
    "        money = int(input(f\"{self.name} 계좌에 얼마를 입금 하실 건가요? : \"))\n",
    "        if type(money) != int:\n",
    "            print('다시 입력해주세요.')\n",
    "        else:\n",
    "            BankAccount.account[self.name] += money\n",
    "        return (f\"{self.name} 계좌에는 {BankAccount.account[self.name]}원이 남았습니다.\")\n",
    "    \n",
    "    def withdraw(self):\n",
    "        money = int(input(f\"{self.name} 계좌에서 얼마를 출금 하실 건가요? : \"))\n",
    "        if type(money) != int:\n",
    "            print('다시 입력해주세요.')\n",
    "        else:\n",
    "            remain = BankAccount.account[self.name]\n",
    "            if remain - money < 0:\n",
    "                print('잔액이 부족합니다.')\n",
    "            else:\n",
    "                BankAccount.account[self.name] -= money\n",
    "        return (f\"{self.name} 계좌에는 {BankAccount.account[self.name]}원이 남았습니다.\")"
   ]
  },
  {
   "cell_type": "code",
   "execution_count": 102,
   "metadata": {},
   "outputs": [],
   "source": [
    "hana = BankAccount(name = '하나은행')\n",
    "woori = BankAccount(name = '우리은행')\n",
    "kookmin = BankAccount(name = '국민은행')"
   ]
  },
  {
   "cell_type": "code",
   "execution_count": 103,
   "metadata": {},
   "outputs": [
    {
     "data": {
      "text/plain": [
       "'우리은행 계좌에는 10000원이 남았습니다.'"
      ]
     },
     "execution_count": 103,
     "metadata": {},
     "output_type": "execute_result"
    }
   ],
   "source": [
    "woori.deposit()"
   ]
  },
  {
   "cell_type": "code",
   "execution_count": 104,
   "metadata": {},
   "outputs": [
    {
     "data": {
      "text/plain": [
       "'국민은행 계좌에는 6500원이 남았습니다.'"
      ]
     },
     "execution_count": 104,
     "metadata": {},
     "output_type": "execute_result"
    }
   ],
   "source": [
    "kookmin.deposit()"
   ]
  },
  {
   "cell_type": "code",
   "execution_count": 105,
   "metadata": {},
   "outputs": [
    {
     "data": {
      "text/plain": [
       "'우리은행 계좌에는 6600원이 남았습니다.'"
      ]
     },
     "execution_count": 105,
     "metadata": {},
     "output_type": "execute_result"
    }
   ],
   "source": [
    "woori.withdraw()"
   ]
  },
  {
   "cell_type": "code",
   "execution_count": 106,
   "metadata": {},
   "outputs": [
    {
     "name": "stdout",
     "output_type": "stream",
     "text": [
      "하나은행 잔액: 0원\n",
      "우리은행 잔액: 6600원\n",
      "국민은행 잔액: 6500원\n"
     ]
    }
   ],
   "source": [
    "woori.total_account()"
   ]
  },
  {
   "cell_type": "code",
   "execution_count": null,
   "metadata": {},
   "outputs": [],
   "source": []
  }
 ],
 "metadata": {
  "kernelspec": {
   "display_name": "paper",
   "language": "python",
   "name": "python3"
  },
  "language_info": {
   "codemirror_mode": {
    "name": "ipython",
    "version": 3
   },
   "file_extension": ".py",
   "mimetype": "text/x-python",
   "name": "python",
   "nbconvert_exporter": "python",
   "pygments_lexer": "ipython3",
   "version": "3.8.16"
  },
  "orig_nbformat": 4
 },
 "nbformat": 4,
 "nbformat_minor": 2
}
